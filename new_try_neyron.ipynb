{
 "cells": [
  {
   "cell_type": "code",
   "execution_count": 14,
   "outputs": [
    {
     "name": "stdout",
     "output_type": "stream",
     "text": [
      "TensorFlow version: 2.11.0\n"
     ]
    }
   ],
   "source": [
    "import tensorflow as tf\n",
    "from tensorflow.keras.layers import Dense\n",
    "print(\"TensorFlow version:\", tf.__version__)\n",
    "# Load the TensorBoard notebook extension\n",
    "\n",
    "import datetime\n",
    "import shutil"
   ],
   "metadata": {
    "collapsed": false
   }
  },
  {
   "cell_type": "code",
   "execution_count": 15,
   "outputs": [],
   "source": [
    "\n",
    "from tensorflow.keras import Model\n",
    "from pathlib import Path\n",
    "import pandas as pd"
   ],
   "metadata": {
    "collapsed": false
   }
  },
  {
   "cell_type": "code",
   "execution_count": 16,
   "outputs": [],
   "source": [
    "BATCH_SIZE = 64\n",
    "BUFFER_SIZE = 128\n",
    "LEARNING_RATE = 0.05\n",
    "EPOCHS = 50"
   ],
   "metadata": {
    "collapsed": false
   }
  },
  {
   "cell_type": "code",
   "execution_count": 17,
   "outputs": [],
   "source": [
    "input_dir = Path('./data/prepared')\n",
    "logs_path = Path('./data/logs')\n",
    "if logs_path.exists():\n",
    "  shutil.rmtree(logs_path)\n",
    "logs_path.mkdir(parents=True)\n",
    "\n",
    "X_train_name = input_dir / 'X_train.csv'\n",
    "y_train_name = input_dir / 'y_train.csv'\n",
    "X_test_name = input_dir / 'X_test.csv'\n",
    "y_test_name = input_dir / 'y_test.csv'\n",
    "\n",
    "X_train = pd.read_csv(X_train_name)\n",
    "y_train = pd.read_csv(y_train_name)\n",
    "X_test = pd.read_csv(X_test_name)\n",
    "y_test = pd.read_csv(y_test_name)\n",
    "\n",
    "train_ds = tf.data.Dataset.from_tensor_slices(\n",
    "    (X_train, y_train)).shuffle(BUFFER_SIZE).batch(BATCH_SIZE)\n",
    "\n",
    "test_ds = tf.data.Dataset.from_tensor_slices((X_test, y_test)).batch(BATCH_SIZE)"
   ],
   "metadata": {
    "collapsed": false
   }
  },
  {
   "cell_type": "code",
   "execution_count": 18,
   "outputs": [
    {
     "data": {
      "text/plain": "(1961, 25)"
     },
     "execution_count": 18,
     "metadata": {},
     "output_type": "execute_result"
    }
   ],
   "source": [
    "X_train.shape"
   ],
   "metadata": {
    "collapsed": false
   }
  },
  {
   "cell_type": "code",
   "execution_count": 19,
   "outputs": [],
   "source": [
    "class SomeModel(Model):\n",
    "  def __init__(self, neurons_cnt=128):\n",
    "    super(SomeModel, self).__init__()\n",
    "\n",
    "    self.d_in = Dense(25, activation='relu')\n",
    "    self.d1 = Dense(neurons_cnt, activation='relu')\n",
    "    self.d2 = Dense(neurons_cnt, activation='relu')\n",
    "    self.d_out = Dense(1)\n",
    "\n",
    "  def call(self, x):\n",
    "    x = self.d_in(x)\n",
    "    x = self.d1(x)\n",
    "    return self.d_out(x)"
   ],
   "metadata": {
    "collapsed": false
   }
  },
  {
   "cell_type": "code",
   "execution_count": 20,
   "outputs": [],
   "source": [
    "# Create an instance of the model\n",
    "model = SomeModel()"
   ],
   "metadata": {
    "collapsed": false
   }
  },
  {
   "cell_type": "code",
   "execution_count": 21,
   "outputs": [],
   "source": [
    "loss_object = tf.keras.losses.MeanSquaredError()\n",
    "optimizer = tf.keras.optimizers.SGD(learning_rate=LEARNING_RATE)"
   ],
   "metadata": {
    "collapsed": false
   }
  },
  {
   "cell_type": "code",
   "execution_count": 22,
   "outputs": [],
   "source": [
    "train_loss = tf.keras.metrics.Mean(name='train_loss')\n",
    "train_accuracy = tf.keras.metrics.MeanAbsoluteError(name='train_mae')\n",
    "\n",
    "test_loss = tf.keras.metrics.Mean(name='test_loss')\n",
    "test_accuracy = tf.keras.metrics.MeanAbsoluteError(name='test_mae')"
   ],
   "metadata": {
    "collapsed": false
   }
  },
  {
   "cell_type": "code",
   "execution_count": 23,
   "outputs": [],
   "source": [
    "@tf.function\n",
    "def train_step(input_vector, labels):\n",
    "  with tf.GradientTape() as tape:\n",
    "    # training=True is only needed if there are layers with different\n",
    "    # behavior during training versus inference (e.g. Dropout).\n",
    "    predictions = model(input_vector, training=True)\n",
    "    loss = loss_object(labels, predictions)\n",
    "  gradients = tape.gradient(loss, model.trainable_variables)\n",
    "  optimizer.apply_gradients(zip(gradients, model.trainable_variables))\n",
    "\n",
    "  train_loss(loss)\n",
    "  train_accuracy(labels, predictions)"
   ],
   "metadata": {
    "collapsed": false
   }
  },
  {
   "cell_type": "code",
   "execution_count": 24,
   "outputs": [],
   "source": [
    "@tf.function\n",
    "def test_step(input_vector, labels):\n",
    "  # training=False is only needed if there are layers with different\n",
    "  # behavior during training versus inference (e.g. Dropout).\n",
    "  predictions = model(input_vector, training=False)\n",
    "  t_loss = loss_object(labels, predictions)\n",
    "\n",
    "  test_loss(t_loss)\n",
    "  test_accuracy(labels, predictions)"
   ],
   "metadata": {
    "collapsed": false
   }
  },
  {
   "cell_type": "code",
   "execution_count": 25,
   "outputs": [],
   "source": [
    "from tensorflow import keras"
   ],
   "metadata": {
    "collapsed": false
   }
  },
  {
   "cell_type": "code",
   "execution_count": 26,
   "outputs": [
    {
     "name": "stderr",
     "output_type": "stream",
     "text": [
      "2022-12-19 16:01:56.401459: I tensorflow/core/profiler/lib/profiler_session.cc:101] Profiler session initializing.\n",
      "2022-12-19 16:01:56.401467: I tensorflow/core/profiler/lib/profiler_session.cc:116] Profiler session started.\n"
     ]
    },
    {
     "name": "stdout",
     "output_type": "stream",
     "text": [
      "Epoch 1, Loss: nan, Accuracy: nan, Test Loss: nan, Test MAE: nan\n",
      "Epoch 2, Loss: nan, Accuracy: nan, Test Loss: nan, Test MAE: nan\n",
      "Epoch 3, Loss: nan, Accuracy: nan, Test Loss: nan, Test MAE: nan\n",
      "Epoch 4, Loss: nan, Accuracy: nan, Test Loss: nan, Test MAE: nan\n",
      "Epoch 5, Loss: nan, Accuracy: nan, Test Loss: nan, Test MAE: nan\n",
      "Epoch 6, Loss: nan, Accuracy: nan, Test Loss: nan, Test MAE: nan\n",
      "Epoch 7, Loss: nan, Accuracy: nan, Test Loss: nan, Test MAE: nan\n",
      "Epoch 8, Loss: nan, Accuracy: nan, Test Loss: nan, Test MAE: nan\n",
      "Epoch 9, Loss: nan, Accuracy: nan, Test Loss: nan, Test MAE: nan\n",
      "Epoch 10, Loss: nan, Accuracy: nan, Test Loss: nan, Test MAE: nan\n",
      "Epoch 11, Loss: nan, Accuracy: nan, Test Loss: nan, Test MAE: nan\n",
      "Epoch 12, Loss: nan, Accuracy: nan, Test Loss: nan, Test MAE: nan\n",
      "Epoch 13, Loss: nan, Accuracy: nan, Test Loss: nan, Test MAE: nan\n",
      "Epoch 14, Loss: nan, Accuracy: nan, Test Loss: nan, Test MAE: nan\n",
      "Epoch 15, Loss: nan, Accuracy: nan, Test Loss: nan, Test MAE: nan\n",
      "Epoch 16, Loss: nan, Accuracy: nan, Test Loss: nan, Test MAE: nan\n",
      "Epoch 17, Loss: nan, Accuracy: nan, Test Loss: nan, Test MAE: nan\n",
      "Epoch 18, Loss: nan, Accuracy: nan, Test Loss: nan, Test MAE: nan\n",
      "Epoch 19, Loss: nan, Accuracy: nan, Test Loss: nan, Test MAE: nan\n",
      "Epoch 20, Loss: nan, Accuracy: nan, Test Loss: nan, Test MAE: nan\n",
      "Epoch 21, Loss: nan, Accuracy: nan, Test Loss: nan, Test MAE: nan\n",
      "Epoch 22, Loss: nan, Accuracy: nan, Test Loss: nan, Test MAE: nan\n",
      "Epoch 23, Loss: nan, Accuracy: nan, Test Loss: nan, Test MAE: nan\n",
      "Epoch 24, Loss: nan, Accuracy: nan, Test Loss: nan, Test MAE: nan\n",
      "Epoch 25, Loss: nan, Accuracy: nan, Test Loss: nan, Test MAE: nan\n",
      "Epoch 26, Loss: nan, Accuracy: nan, Test Loss: nan, Test MAE: nan\n",
      "Epoch 27, Loss: nan, Accuracy: nan, Test Loss: nan, Test MAE: nan\n",
      "Epoch 28, Loss: nan, Accuracy: nan, Test Loss: nan, Test MAE: nan\n",
      "Epoch 29, Loss: nan, Accuracy: nan, Test Loss: nan, Test MAE: nan\n",
      "Epoch 30, Loss: nan, Accuracy: nan, Test Loss: nan, Test MAE: nan\n",
      "Epoch 31, Loss: nan, Accuracy: nan, Test Loss: nan, Test MAE: nan\n",
      "Epoch 32, Loss: nan, Accuracy: nan, Test Loss: nan, Test MAE: nan\n",
      "Epoch 33, Loss: nan, Accuracy: nan, Test Loss: nan, Test MAE: nan\n",
      "Epoch 34, Loss: nan, Accuracy: nan, Test Loss: nan, Test MAE: nan\n",
      "Epoch 35, Loss: nan, Accuracy: nan, Test Loss: nan, Test MAE: nan\n",
      "Epoch 36, Loss: nan, Accuracy: nan, Test Loss: nan, Test MAE: nan\n",
      "Epoch 37, Loss: nan, Accuracy: nan, Test Loss: nan, Test MAE: nan\n",
      "Epoch 38, Loss: nan, Accuracy: nan, Test Loss: nan, Test MAE: nan\n",
      "Epoch 39, Loss: nan, Accuracy: nan, Test Loss: nan, Test MAE: nan\n",
      "Epoch 40, Loss: nan, Accuracy: nan, Test Loss: nan, Test MAE: nan\n",
      "Epoch 41, Loss: nan, Accuracy: nan, Test Loss: nan, Test MAE: nan\n",
      "Epoch 42, Loss: nan, Accuracy: nan, Test Loss: nan, Test MAE: nan\n",
      "Epoch 43, Loss: nan, Accuracy: nan, Test Loss: nan, Test MAE: nan\n",
      "Epoch 44, Loss: nan, Accuracy: nan, Test Loss: nan, Test MAE: nan\n",
      "Epoch 45, Loss: nan, Accuracy: nan, Test Loss: nan, Test MAE: nan\n",
      "Epoch 46, Loss: nan, Accuracy: nan, Test Loss: nan, Test MAE: nan\n",
      "Epoch 47, Loss: nan, Accuracy: nan, Test Loss: nan, Test MAE: nan\n",
      "Epoch 48, Loss: nan, Accuracy: nan, Test Loss: nan, Test MAE: nan\n",
      "Epoch 49, Loss: nan, Accuracy: nan, Test Loss: nan, Test MAE: nan\n",
      "Epoch 50, Loss: nan, Accuracy: nan, Test Loss: nan, Test MAE: nan\n"
     ]
    },
    {
     "name": "stderr",
     "output_type": "stream",
     "text": [
      "2022-12-19 16:01:57.900876: I tensorflow/core/profiler/lib/profiler_session.cc:67] Profiler session collecting data.\n",
      "2022-12-19 16:01:58.424918: I tensorflow/core/profiler/lib/profiler_session.cc:128] Profiler session tear down.\n"
     ]
    }
   ],
   "source": [
    "current_time = datetime.datetime.now().strftime(\"%Y%m%d-%H%M%S\")\n",
    "train_log_dir = logs_path / 'gradient_tape' / current_time / 'train'\n",
    "train_log_dir.mkdir(exist_ok=True, parents=True)\n",
    "test_log_dir = logs_path / 'gradient_tape' / current_time / 'test'\n",
    "test_log_dir.mkdir(exist_ok=True, parents=True)\n",
    "train_summary_writer = tf.summary.create_file_writer(str(train_log_dir))\n",
    "test_summary_writer = tf.summary.create_file_writer(str(test_log_dir))\n",
    "\n",
    "logdir=logs_path / \"fit\" / datetime.datetime.now().strftime(\"%Y%m%d-%H%M%S\")\n",
    "logdir.mkdir(exist_ok=True, parents=True)\n",
    "fit_summary_writer = tf.summary.create_file_writer(str(logdir))\n",
    "\n",
    "tf.summary.trace_on(graph=True, profiler=True)\n",
    "for epoch in range(EPOCHS):\n",
    "  # Reset the metrics at the start of the next epoch\n",
    "  for (x_train, y_train) in train_ds:\n",
    "\n",
    "    with fit_summary_writer.as_default():\n",
    "      train_step(x_train, y_train)\n",
    "\n",
    "\n",
    "  with train_summary_writer.as_default():\n",
    "    tf.summary.scalar('loss', train_loss.result(), step=epoch)\n",
    "    tf.summary.scalar('accuracy', train_accuracy.result(), step=epoch)\n",
    "\n",
    "  for (x_test, y_test) in test_ds:\n",
    "    test_step(x_test, y_test)\n",
    "\n",
    "  with test_summary_writer.as_default():\n",
    "    tf.summary.scalar('loss', test_loss.result(), step=epoch)\n",
    "    tf.summary.scalar('mae', test_accuracy.result(), step=epoch)\n",
    "\n",
    "  template = 'Epoch {}, Loss: {}, Accuracy: {}, Test Loss: {}, Test MAE: {}'\n",
    "  print (template.format(epoch+1,\n",
    "                         train_loss.result(),\n",
    "                         train_accuracy.result(),\n",
    "                         test_loss.result(),\n",
    "                         test_accuracy.result()))\n",
    "\n",
    "  # Reset metrics every epoch\n",
    "  train_loss.reset_states()\n",
    "  test_loss.reset_states()\n",
    "  train_accuracy.reset_states()\n",
    "  test_accuracy.reset_states()\n",
    "\n",
    "with fit_summary_writer.as_default():\n",
    "  tf.summary.trace_export(\n",
    "      name=\"my_func_trace\",\n",
    "      step=0,\n",
    "      profiler_outdir=logdir\n",
    "  )"
   ],
   "metadata": {
    "collapsed": false
   }
  },
  {
   "cell_type": "code",
   "execution_count": 26,
   "outputs": [],
   "source": [],
   "metadata": {
    "collapsed": false
   }
  }
 ],
 "metadata": {
  "kernelspec": {
   "display_name": "Python 3",
   "language": "python",
   "name": "python3"
  },
  "language_info": {
   "codemirror_mode": {
    "name": "ipython",
    "version": 2
   },
   "file_extension": ".py",
   "mimetype": "text/x-python",
   "name": "python",
   "nbconvert_exporter": "python",
   "pygments_lexer": "ipython2",
   "version": "2.7.6"
  }
 },
 "nbformat": 4,
 "nbformat_minor": 0
}
